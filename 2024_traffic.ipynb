{
 "cells": [
  {
   "cell_type": "markdown",
   "id": "fcd54e8e",
   "metadata": {},
   "source": [
    "Columns:  \n",
    "- idTram --> identifier of the tram   \n",
    "- data --> data in format YYYYYMMDD followed by time in format HHMMSS (Example: #20180516103551)  \n",
    "- estatActual --> current status (0 = no data / 1 = very fluid / 2 = fluid / 3 = dense / 4 = very dense / 5 = congested / 6 = dead)  \n",
    "- estatPrevist --> predicted state at 15 minutes (0 = no data / 1 = very fluid / 2 = fluid / 3 = dense / 4 = very dense / 5 = congested / 6 = thinned)   \n",
    "- Tram_Components --> number of components of the tram   \n",
    "- Descripció --> description of the tram   \n",
    "- Longitud    \n",
    "- Latitud  "
   ]
  },
  {
   "cell_type": "code",
   "execution_count": 2,
   "id": "ce782bca",
   "metadata": {},
   "outputs": [],
   "source": [
    "#https://opendata-ajuntament.barcelona.cat/data/ca/dataset/transit-relacio-trams"
   ]
  },
  {
   "cell_type": "code",
   "execution_count": 1,
   "id": "9c0531c3",
   "metadata": {},
   "outputs": [],
   "source": [
    "import pandas as pd"
   ]
  },
  {
   "cell_type": "code",
   "execution_count": 2,
   "id": "b3139490",
   "metadata": {},
   "outputs": [],
   "source": [
    "import pandas as pd\n",
    "\n",
    "# File path\n",
    "file_path = '2024_traffic.csv'\n",
    "\n",
    "# Chunk size \n",
    "chunk_size = 10000\n",
    "\n",
    "# Initialize an empty list to store chunk-wise dataframes\n",
    "chunk_dfs = []\n",
    "\n",
    "# Iterate over the CSV file in chunks\n",
    "for chunk_df in pd.read_csv(file_path, chunksize=chunk_size):\n",
    "    # Rimuovi le righe dove 'estatActual' o 'estatPrevist' è zero\n",
    "    chunk_df = chunk_df[(chunk_df['estatActual'] != 0) & (chunk_df['estatPrevist'] != 0)]\n",
    "    \n",
    "    # Aggiungi il DataFrame elaborato alla lista\n",
    "    chunk_dfs.append(chunk_df)\n",
    "\n",
    "# Concatena tutti i DataFrame dei chunk in un singolo DataFrame\n",
    "df_traffic_2024 = pd.concat(chunk_dfs, ignore_index=True)"
   ]
  },
  {
   "cell_type": "code",
   "execution_count": 4,
   "id": "a48ff72f",
   "metadata": {},
   "outputs": [
    {
     "data": {
      "text/html": [
       "<div>\n",
       "<style scoped>\n",
       "    .dataframe tbody tr th:only-of-type {\n",
       "        vertical-align: middle;\n",
       "    }\n",
       "\n",
       "    .dataframe tbody tr th {\n",
       "        vertical-align: top;\n",
       "    }\n",
       "\n",
       "    .dataframe thead th {\n",
       "        text-align: right;\n",
       "    }\n",
       "</style>\n",
       "<table border=\"1\" class=\"dataframe\">\n",
       "  <thead>\n",
       "    <tr style=\"text-align: right;\">\n",
       "      <th></th>\n",
       "      <th>idTram</th>\n",
       "      <th>data</th>\n",
       "      <th>estatActual</th>\n",
       "      <th>estatPrevist</th>\n",
       "      <th>Tram_Components</th>\n",
       "      <th>Descripció</th>\n",
       "      <th>Longitud</th>\n",
       "      <th>Latitud</th>\n",
       "    </tr>\n",
       "  </thead>\n",
       "  <tbody>\n",
       "    <tr>\n",
       "      <th>0</th>\n",
       "      <td>1</td>\n",
       "      <td>20240101003052</td>\n",
       "      <td>1</td>\n",
       "      <td>2</td>\n",
       "      <td>1</td>\n",
       "      <td>Diagonal (Ronda de Dalt a Doctor Marañón)</td>\n",
       "      <td>2.112035</td>\n",
       "      <td>41.384191</td>\n",
       "    </tr>\n",
       "    <tr>\n",
       "      <th>1</th>\n",
       "      <td>1</td>\n",
       "      <td>20240101003052</td>\n",
       "      <td>1</td>\n",
       "      <td>2</td>\n",
       "      <td>2</td>\n",
       "      <td>Diagonal (Ronda de Dalt a Doctor Marañón)</td>\n",
       "      <td>2.101503</td>\n",
       "      <td>41.381631</td>\n",
       "    </tr>\n",
       "    <tr>\n",
       "      <th>2</th>\n",
       "      <td>1</td>\n",
       "      <td>20240101004552</td>\n",
       "      <td>2</td>\n",
       "      <td>2</td>\n",
       "      <td>1</td>\n",
       "      <td>Diagonal (Ronda de Dalt a Doctor Marañón)</td>\n",
       "      <td>2.112035</td>\n",
       "      <td>41.384191</td>\n",
       "    </tr>\n",
       "    <tr>\n",
       "      <th>3</th>\n",
       "      <td>1</td>\n",
       "      <td>20240101004552</td>\n",
       "      <td>2</td>\n",
       "      <td>2</td>\n",
       "      <td>2</td>\n",
       "      <td>Diagonal (Ronda de Dalt a Doctor Marañón)</td>\n",
       "      <td>2.101503</td>\n",
       "      <td>41.381631</td>\n",
       "    </tr>\n",
       "    <tr>\n",
       "      <th>4</th>\n",
       "      <td>1</td>\n",
       "      <td>20240101005053</td>\n",
       "      <td>1</td>\n",
       "      <td>2</td>\n",
       "      <td>1</td>\n",
       "      <td>Diagonal (Ronda de Dalt a Doctor Marañón)</td>\n",
       "      <td>2.112035</td>\n",
       "      <td>41.384191</td>\n",
       "    </tr>\n",
       "    <tr>\n",
       "      <th>...</th>\n",
       "      <td>...</td>\n",
       "      <td>...</td>\n",
       "      <td>...</td>\n",
       "      <td>...</td>\n",
       "      <td>...</td>\n",
       "      <td>...</td>\n",
       "      <td>...</td>\n",
       "      <td>...</td>\n",
       "    </tr>\n",
       "    <tr>\n",
       "      <th>16398233</th>\n",
       "      <td>534</td>\n",
       "      <td>20240311182054</td>\n",
       "      <td>3</td>\n",
       "      <td>4</td>\n",
       "      <td>1</td>\n",
       "      <td>Ronda Litoral (Nus de la Trinitat a Potosí)</td>\n",
       "      <td>2.206062</td>\n",
       "      <td>41.443566</td>\n",
       "    </tr>\n",
       "    <tr>\n",
       "      <th>16398234</th>\n",
       "      <td>534</td>\n",
       "      <td>20240311182054</td>\n",
       "      <td>3</td>\n",
       "      <td>4</td>\n",
       "      <td>2</td>\n",
       "      <td>Ronda Litoral (Nus de la Trinitat a Potosí)</td>\n",
       "      <td>2.201962</td>\n",
       "      <td>41.448043</td>\n",
       "    </tr>\n",
       "    <tr>\n",
       "      <th>16398235</th>\n",
       "      <td>534</td>\n",
       "      <td>20240311182054</td>\n",
       "      <td>3</td>\n",
       "      <td>4</td>\n",
       "      <td>3</td>\n",
       "      <td>Ronda Litoral (Nus de la Trinitat a Potosí)</td>\n",
       "      <td>2.200663</td>\n",
       "      <td>41.448814</td>\n",
       "    </tr>\n",
       "    <tr>\n",
       "      <th>16398236</th>\n",
       "      <td>534</td>\n",
       "      <td>20240311182054</td>\n",
       "      <td>3</td>\n",
       "      <td>4</td>\n",
       "      <td>4</td>\n",
       "      <td>Ronda Litoral (Nus de la Trinitat a Potosí)</td>\n",
       "      <td>2.197778</td>\n",
       "      <td>41.449493</td>\n",
       "    </tr>\n",
       "    <tr>\n",
       "      <th>16398237</th>\n",
       "      <td>534</td>\n",
       "      <td>20240311182054</td>\n",
       "      <td>3</td>\n",
       "      <td>4</td>\n",
       "      <td>5</td>\n",
       "      <td>Ronda Litoral (Nus de la Trinitat a Potosí)</td>\n",
       "      <td>2.196634</td>\n",
       "      <td>41.449907</td>\n",
       "    </tr>\n",
       "  </tbody>\n",
       "</table>\n",
       "<p>16398238 rows × 8 columns</p>\n",
       "</div>"
      ],
      "text/plain": [
       "          idTram            data  estatActual  estatPrevist  Tram_Components  \\\n",
       "0              1  20240101003052            1             2                1   \n",
       "1              1  20240101003052            1             2                2   \n",
       "2              1  20240101004552            2             2                1   \n",
       "3              1  20240101004552            2             2                2   \n",
       "4              1  20240101005053            1             2                1   \n",
       "...          ...             ...          ...           ...              ...   \n",
       "16398233     534  20240311182054            3             4                1   \n",
       "16398234     534  20240311182054            3             4                2   \n",
       "16398235     534  20240311182054            3             4                3   \n",
       "16398236     534  20240311182054            3             4                4   \n",
       "16398237     534  20240311182054            3             4                5   \n",
       "\n",
       "                                           Descripció  Longitud    Latitud  \n",
       "0           Diagonal (Ronda de Dalt a Doctor Marañón)  2.112035  41.384191  \n",
       "1           Diagonal (Ronda de Dalt a Doctor Marañón)  2.101503  41.381631  \n",
       "2           Diagonal (Ronda de Dalt a Doctor Marañón)  2.112035  41.384191  \n",
       "3           Diagonal (Ronda de Dalt a Doctor Marañón)  2.101503  41.381631  \n",
       "4           Diagonal (Ronda de Dalt a Doctor Marañón)  2.112035  41.384191  \n",
       "...                                               ...       ...        ...  \n",
       "16398233  Ronda Litoral (Nus de la Trinitat a Potosí)  2.206062  41.443566  \n",
       "16398234  Ronda Litoral (Nus de la Trinitat a Potosí)  2.201962  41.448043  \n",
       "16398235  Ronda Litoral (Nus de la Trinitat a Potosí)  2.200663  41.448814  \n",
       "16398236  Ronda Litoral (Nus de la Trinitat a Potosí)  2.197778  41.449493  \n",
       "16398237  Ronda Litoral (Nus de la Trinitat a Potosí)  2.196634  41.449907  \n",
       "\n",
       "[16398238 rows x 8 columns]"
      ]
     },
     "execution_count": 4,
     "metadata": {},
     "output_type": "execute_result"
    }
   ],
   "source": [
    "df_traffic_2024"
   ]
  },
  {
   "cell_type": "markdown",
   "id": "6c19d0d5",
   "metadata": {},
   "source": [
    "Dataset that records the traffic status of trams in a certain area, with information such as tram identifier, date and time, current and expected status, the number of tram components, the description and geographical coordinates."
   ]
  },
  {
   "cell_type": "code",
   "execution_count": 5,
   "id": "1e8c03a9",
   "metadata": {},
   "outputs": [
    {
     "data": {
      "text/plain": [
       "408"
      ]
     },
     "execution_count": 5,
     "metadata": {},
     "output_type": "execute_result"
    }
   ],
   "source": [
    "len(df_traffic_2024.idTram.unique())"
   ]
  },
  {
   "cell_type": "code",
   "execution_count": 6,
   "id": "64d9f675",
   "metadata": {},
   "outputs": [],
   "source": [
    "#convert date to datetime\n",
    "df_traffic_2024['data'] = pd.to_datetime(df_traffic_2024['data'], format='%Y%m%d%H%M%S')"
   ]
  },
  {
   "cell_type": "code",
   "execution_count": 7,
   "id": "f236eecc",
   "metadata": {
    "scrolled": true
   },
   "outputs": [
    {
     "data": {
      "text/html": [
       "<div>\n",
       "<style scoped>\n",
       "    .dataframe tbody tr th:only-of-type {\n",
       "        vertical-align: middle;\n",
       "    }\n",
       "\n",
       "    .dataframe tbody tr th {\n",
       "        vertical-align: top;\n",
       "    }\n",
       "\n",
       "    .dataframe thead th {\n",
       "        text-align: right;\n",
       "    }\n",
       "</style>\n",
       "<table border=\"1\" class=\"dataframe\">\n",
       "  <thead>\n",
       "    <tr style=\"text-align: right;\">\n",
       "      <th></th>\n",
       "      <th>idTram</th>\n",
       "      <th>data</th>\n",
       "      <th>estatActual</th>\n",
       "      <th>estatPrevist</th>\n",
       "      <th>Tram_Components</th>\n",
       "      <th>Descripció</th>\n",
       "      <th>Longitud</th>\n",
       "      <th>Latitud</th>\n",
       "    </tr>\n",
       "  </thead>\n",
       "  <tbody>\n",
       "    <tr>\n",
       "      <th>0</th>\n",
       "      <td>1</td>\n",
       "      <td>2024-01-01 00:30:52</td>\n",
       "      <td>1</td>\n",
       "      <td>2</td>\n",
       "      <td>1</td>\n",
       "      <td>Diagonal (Ronda de Dalt a Doctor Marañón)</td>\n",
       "      <td>2.112035</td>\n",
       "      <td>41.384191</td>\n",
       "    </tr>\n",
       "    <tr>\n",
       "      <th>1</th>\n",
       "      <td>1</td>\n",
       "      <td>2024-01-01 00:30:52</td>\n",
       "      <td>1</td>\n",
       "      <td>2</td>\n",
       "      <td>2</td>\n",
       "      <td>Diagonal (Ronda de Dalt a Doctor Marañón)</td>\n",
       "      <td>2.101503</td>\n",
       "      <td>41.381631</td>\n",
       "    </tr>\n",
       "    <tr>\n",
       "      <th>2</th>\n",
       "      <td>1</td>\n",
       "      <td>2024-01-01 00:45:52</td>\n",
       "      <td>2</td>\n",
       "      <td>2</td>\n",
       "      <td>1</td>\n",
       "      <td>Diagonal (Ronda de Dalt a Doctor Marañón)</td>\n",
       "      <td>2.112035</td>\n",
       "      <td>41.384191</td>\n",
       "    </tr>\n",
       "    <tr>\n",
       "      <th>3</th>\n",
       "      <td>1</td>\n",
       "      <td>2024-01-01 00:45:52</td>\n",
       "      <td>2</td>\n",
       "      <td>2</td>\n",
       "      <td>2</td>\n",
       "      <td>Diagonal (Ronda de Dalt a Doctor Marañón)</td>\n",
       "      <td>2.101503</td>\n",
       "      <td>41.381631</td>\n",
       "    </tr>\n",
       "    <tr>\n",
       "      <th>4</th>\n",
       "      <td>1</td>\n",
       "      <td>2024-01-01 00:50:53</td>\n",
       "      <td>1</td>\n",
       "      <td>2</td>\n",
       "      <td>1</td>\n",
       "      <td>Diagonal (Ronda de Dalt a Doctor Marañón)</td>\n",
       "      <td>2.112035</td>\n",
       "      <td>41.384191</td>\n",
       "    </tr>\n",
       "    <tr>\n",
       "      <th>...</th>\n",
       "      <td>...</td>\n",
       "      <td>...</td>\n",
       "      <td>...</td>\n",
       "      <td>...</td>\n",
       "      <td>...</td>\n",
       "      <td>...</td>\n",
       "      <td>...</td>\n",
       "      <td>...</td>\n",
       "    </tr>\n",
       "    <tr>\n",
       "      <th>16398233</th>\n",
       "      <td>534</td>\n",
       "      <td>2024-03-11 18:20:54</td>\n",
       "      <td>3</td>\n",
       "      <td>4</td>\n",
       "      <td>1</td>\n",
       "      <td>Ronda Litoral (Nus de la Trinitat a Potosí)</td>\n",
       "      <td>2.206062</td>\n",
       "      <td>41.443566</td>\n",
       "    </tr>\n",
       "    <tr>\n",
       "      <th>16398234</th>\n",
       "      <td>534</td>\n",
       "      <td>2024-03-11 18:20:54</td>\n",
       "      <td>3</td>\n",
       "      <td>4</td>\n",
       "      <td>2</td>\n",
       "      <td>Ronda Litoral (Nus de la Trinitat a Potosí)</td>\n",
       "      <td>2.201962</td>\n",
       "      <td>41.448043</td>\n",
       "    </tr>\n",
       "    <tr>\n",
       "      <th>16398235</th>\n",
       "      <td>534</td>\n",
       "      <td>2024-03-11 18:20:54</td>\n",
       "      <td>3</td>\n",
       "      <td>4</td>\n",
       "      <td>3</td>\n",
       "      <td>Ronda Litoral (Nus de la Trinitat a Potosí)</td>\n",
       "      <td>2.200663</td>\n",
       "      <td>41.448814</td>\n",
       "    </tr>\n",
       "    <tr>\n",
       "      <th>16398236</th>\n",
       "      <td>534</td>\n",
       "      <td>2024-03-11 18:20:54</td>\n",
       "      <td>3</td>\n",
       "      <td>4</td>\n",
       "      <td>4</td>\n",
       "      <td>Ronda Litoral (Nus de la Trinitat a Potosí)</td>\n",
       "      <td>2.197778</td>\n",
       "      <td>41.449493</td>\n",
       "    </tr>\n",
       "    <tr>\n",
       "      <th>16398237</th>\n",
       "      <td>534</td>\n",
       "      <td>2024-03-11 18:20:54</td>\n",
       "      <td>3</td>\n",
       "      <td>4</td>\n",
       "      <td>5</td>\n",
       "      <td>Ronda Litoral (Nus de la Trinitat a Potosí)</td>\n",
       "      <td>2.196634</td>\n",
       "      <td>41.449907</td>\n",
       "    </tr>\n",
       "  </tbody>\n",
       "</table>\n",
       "<p>16398238 rows × 8 columns</p>\n",
       "</div>"
      ],
      "text/plain": [
       "          idTram                data  estatActual  estatPrevist  \\\n",
       "0              1 2024-01-01 00:30:52            1             2   \n",
       "1              1 2024-01-01 00:30:52            1             2   \n",
       "2              1 2024-01-01 00:45:52            2             2   \n",
       "3              1 2024-01-01 00:45:52            2             2   \n",
       "4              1 2024-01-01 00:50:53            1             2   \n",
       "...          ...                 ...          ...           ...   \n",
       "16398233     534 2024-03-11 18:20:54            3             4   \n",
       "16398234     534 2024-03-11 18:20:54            3             4   \n",
       "16398235     534 2024-03-11 18:20:54            3             4   \n",
       "16398236     534 2024-03-11 18:20:54            3             4   \n",
       "16398237     534 2024-03-11 18:20:54            3             4   \n",
       "\n",
       "          Tram_Components                                   Descripció  \\\n",
       "0                       1    Diagonal (Ronda de Dalt a Doctor Marañón)   \n",
       "1                       2    Diagonal (Ronda de Dalt a Doctor Marañón)   \n",
       "2                       1    Diagonal (Ronda de Dalt a Doctor Marañón)   \n",
       "3                       2    Diagonal (Ronda de Dalt a Doctor Marañón)   \n",
       "4                       1    Diagonal (Ronda de Dalt a Doctor Marañón)   \n",
       "...                   ...                                          ...   \n",
       "16398233                1  Ronda Litoral (Nus de la Trinitat a Potosí)   \n",
       "16398234                2  Ronda Litoral (Nus de la Trinitat a Potosí)   \n",
       "16398235                3  Ronda Litoral (Nus de la Trinitat a Potosí)   \n",
       "16398236                4  Ronda Litoral (Nus de la Trinitat a Potosí)   \n",
       "16398237                5  Ronda Litoral (Nus de la Trinitat a Potosí)   \n",
       "\n",
       "          Longitud    Latitud  \n",
       "0         2.112035  41.384191  \n",
       "1         2.101503  41.381631  \n",
       "2         2.112035  41.384191  \n",
       "3         2.101503  41.381631  \n",
       "4         2.112035  41.384191  \n",
       "...            ...        ...  \n",
       "16398233  2.206062  41.443566  \n",
       "16398234  2.201962  41.448043  \n",
       "16398235  2.200663  41.448814  \n",
       "16398236  2.197778  41.449493  \n",
       "16398237  2.196634  41.449907  \n",
       "\n",
       "[16398238 rows x 8 columns]"
      ]
     },
     "execution_count": 7,
     "metadata": {},
     "output_type": "execute_result"
    }
   ],
   "source": [
    "df_traffic_2024"
   ]
  },
  {
   "cell_type": "code",
   "execution_count": 8,
   "id": "af833e8b",
   "metadata": {},
   "outputs": [
    {
     "data": {
      "text/plain": [
       "idTram             0\n",
       "data               0\n",
       "estatActual        0\n",
       "estatPrevist       0\n",
       "Tram_Components    0\n",
       "Descripció         0\n",
       "Longitud           0\n",
       "Latitud            0\n",
       "dtype: int64"
      ]
     },
     "execution_count": 8,
     "metadata": {},
     "output_type": "execute_result"
    }
   ],
   "source": [
    "#check missing values\n",
    "df_traffic_2024.isnull().sum()"
   ]
  },
  {
   "cell_type": "code",
   "execution_count": 9,
   "id": "64786aa3",
   "metadata": {},
   "outputs": [
    {
     "name": "stdout",
     "output_type": "stream",
     "text": [
      "Empty DataFrame\n",
      "Columns: [idTram, data, estatActual, estatPrevist, Tram_Components, Descripció, Longitud, Latitud]\n",
      "Index: []\n"
     ]
    }
   ],
   "source": [
    "#check duplicates \n",
    "duplicates = df_traffic_2024[df_traffic_2024.duplicated()]\n",
    "print(duplicates)"
   ]
  },
  {
   "cell_type": "code",
   "execution_count": 10,
   "id": "a9df2117",
   "metadata": {},
   "outputs": [
    {
     "data": {
      "text/plain": [
       "Timestamp('2024-01-01 00:05:52')"
      ]
     },
     "execution_count": 10,
     "metadata": {},
     "output_type": "execute_result"
    }
   ],
   "source": [
    "df_traffic_2024.data.min()"
   ]
  },
  {
   "cell_type": "code",
   "execution_count": 11,
   "id": "bda644f2",
   "metadata": {},
   "outputs": [
    {
     "data": {
      "text/plain": [
       "Timestamp('2024-03-11 18:20:54')"
      ]
     },
     "execution_count": 11,
     "metadata": {},
     "output_type": "execute_result"
    }
   ],
   "source": [
    "df_traffic_2024.data.max()"
   ]
  },
  {
   "cell_type": "markdown",
   "id": "6fb477af",
   "metadata": {},
   "source": [
    "### Analysis of the traffic status in certain periods of time:  \n",
    "Group data by date/time and average current and forecasted status hourly."
   ]
  },
  {
   "cell_type": "code",
   "execution_count": 12,
   "id": "f41668b8",
   "metadata": {},
   "outputs": [],
   "source": [
    "# Group by time and average current and predicted state\n",
    "df_hourly = df_traffic_2024.groupby(df_traffic_2024['data'].dt.floor('H')).agg({'estatActual': 'mean', 'estatPrevist': 'mean'}).reset_index()"
   ]
  },
  {
   "cell_type": "code",
   "execution_count": 13,
   "id": "784a63b3",
   "metadata": {
    "scrolled": true
   },
   "outputs": [
    {
     "data": {
      "text/html": [
       "<div>\n",
       "<style scoped>\n",
       "    .dataframe tbody tr th:only-of-type {\n",
       "        vertical-align: middle;\n",
       "    }\n",
       "\n",
       "    .dataframe tbody tr th {\n",
       "        vertical-align: top;\n",
       "    }\n",
       "\n",
       "    .dataframe thead th {\n",
       "        text-align: right;\n",
       "    }\n",
       "</style>\n",
       "<table border=\"1\" class=\"dataframe\">\n",
       "  <thead>\n",
       "    <tr style=\"text-align: right;\">\n",
       "      <th></th>\n",
       "      <th>data</th>\n",
       "      <th>estatActual</th>\n",
       "      <th>estatPrevist</th>\n",
       "    </tr>\n",
       "  </thead>\n",
       "  <tbody>\n",
       "    <tr>\n",
       "      <th>0</th>\n",
       "      <td>2024-01-01 00:00:00</td>\n",
       "      <td>1.574243</td>\n",
       "      <td>1.687889</td>\n",
       "    </tr>\n",
       "    <tr>\n",
       "      <th>1</th>\n",
       "      <td>2024-01-01 01:00:00</td>\n",
       "      <td>1.855639</td>\n",
       "      <td>1.799414</td>\n",
       "    </tr>\n",
       "    <tr>\n",
       "      <th>2</th>\n",
       "      <td>2024-01-01 02:00:00</td>\n",
       "      <td>1.573585</td>\n",
       "      <td>1.659142</td>\n",
       "    </tr>\n",
       "    <tr>\n",
       "      <th>3</th>\n",
       "      <td>2024-01-01 03:00:00</td>\n",
       "      <td>1.368501</td>\n",
       "      <td>1.445216</td>\n",
       "    </tr>\n",
       "    <tr>\n",
       "      <th>4</th>\n",
       "      <td>2024-01-01 04:00:00</td>\n",
       "      <td>1.237569</td>\n",
       "      <td>1.272560</td>\n",
       "    </tr>\n",
       "    <tr>\n",
       "      <th>...</th>\n",
       "      <td>...</td>\n",
       "      <td>...</td>\n",
       "      <td>...</td>\n",
       "    </tr>\n",
       "    <tr>\n",
       "      <th>1549</th>\n",
       "      <td>2024-03-11 14:00:00</td>\n",
       "      <td>2.097162</td>\n",
       "      <td>2.127506</td>\n",
       "    </tr>\n",
       "    <tr>\n",
       "      <th>1550</th>\n",
       "      <td>2024-03-11 15:00:00</td>\n",
       "      <td>2.110817</td>\n",
       "      <td>2.156347</td>\n",
       "    </tr>\n",
       "    <tr>\n",
       "      <th>1551</th>\n",
       "      <td>2024-03-11 16:00:00</td>\n",
       "      <td>2.148657</td>\n",
       "      <td>2.181483</td>\n",
       "    </tr>\n",
       "    <tr>\n",
       "      <th>1552</th>\n",
       "      <td>2024-03-11 17:00:00</td>\n",
       "      <td>2.245142</td>\n",
       "      <td>2.289885</td>\n",
       "    </tr>\n",
       "    <tr>\n",
       "      <th>1553</th>\n",
       "      <td>2024-03-11 18:00:00</td>\n",
       "      <td>2.254944</td>\n",
       "      <td>2.308735</td>\n",
       "    </tr>\n",
       "  </tbody>\n",
       "</table>\n",
       "<p>1554 rows × 3 columns</p>\n",
       "</div>"
      ],
      "text/plain": [
       "                    data  estatActual  estatPrevist\n",
       "0    2024-01-01 00:00:00     1.574243      1.687889\n",
       "1    2024-01-01 01:00:00     1.855639      1.799414\n",
       "2    2024-01-01 02:00:00     1.573585      1.659142\n",
       "3    2024-01-01 03:00:00     1.368501      1.445216\n",
       "4    2024-01-01 04:00:00     1.237569      1.272560\n",
       "...                  ...          ...           ...\n",
       "1549 2024-03-11 14:00:00     2.097162      2.127506\n",
       "1550 2024-03-11 15:00:00     2.110817      2.156347\n",
       "1551 2024-03-11 16:00:00     2.148657      2.181483\n",
       "1552 2024-03-11 17:00:00     2.245142      2.289885\n",
       "1553 2024-03-11 18:00:00     2.254944      2.308735\n",
       "\n",
       "[1554 rows x 3 columns]"
      ]
     },
     "execution_count": 13,
     "metadata": {},
     "output_type": "execute_result"
    }
   ],
   "source": [
    "df_hourly"
   ]
  },
  {
   "cell_type": "code",
   "execution_count": 15,
   "id": "e8d8300c",
   "metadata": {},
   "outputs": [
    {
     "name": "stdout",
     "output_type": "stream",
     "text": [
      "Frequency of the current state for each hour:\n",
      "estatActual       1       2       3      4      5      6\n",
      "hour                                                    \n",
      "0            278552   60707    8357   2038   1027   8618\n",
      "1            224767   37306    6029   2251    869   7846\n",
      "2            173859   23132    4757   1787    727   7688\n",
      "3            142687   16768    3301   1584    597   7000\n",
      "4            129441   13564    3561   1287    602   6434\n",
      "5            229710   39860    9018   1862    773   8272\n",
      "6            300668  135713   20188   4549   1788   8020\n",
      "7            249217  333153   61255  22929   9071   8869\n",
      "8            186965  425399   98199  46339  24761  10111\n",
      "9            183451  486962  101539  41447  18965  10840\n",
      "10           183760  518216   89117  30203   8777  10669\n",
      "11           171445  560219  110209  33974  11692  10997\n",
      "12           157078  586538  121736  38839  13502  10110\n",
      "13           148025  617272  121390  42934  13435   9419\n",
      "14           186972  602458  104100  38912  10362   9248\n",
      "15           217035  530002   88752  31449   9476   8634\n",
      "16           194532  584356  108628  33714  11449   9030\n",
      "17           157348  607811  129249  49431  17607   9664\n",
      "18           144343  592295  128418  50683  16704  10000\n",
      "19           161813  588940  111196  37121  11978   9969\n",
      "20           212768  572964   75296  20552   5720   9850\n",
      "21           342631  402615   41794   7061   2720   9012\n",
      "22           464420  206334   19797   3477   1728   8918\n",
      "23           373154  101033   12312   3904   1369   8538\n",
      "\n",
      "Predicted state frequency per hour:\n",
      "estatPrevist       1       2       3      4      5      6\n",
      "hour                                                     \n",
      "0             272757   59516   10516   2753   5139   8618\n",
      "1             222469   37508    7713   2475   1057   7846\n",
      "2             172558   22750    5774   2097   1083   7688\n",
      "3             140809   17565    4004   1794    765   7000\n",
      "4             128213   13878    3884   1760    720   6434\n",
      "5             220533   44608   11996   3137    949   8272\n",
      "6             272300  144522   35870   7560   2654   8020\n",
      "7             223337  319085   88276  30558  14369   8869\n",
      "8             195293  395271  112272  50799  28028  10111\n",
      "9             198654  454128  118026  43577  17979  10840\n",
      "10            191319  479287  111839  35525  12103  10669\n",
      "11            184063  517376  127011  43600  15489  10997\n",
      "12            173045  542020  137060  48449  17119  10110\n",
      "13            174557  563161  139431  49094  16813   9419\n",
      "14            212906  552092  123615  40512  13679   9248\n",
      "15            224424  493179  110766  35813  12532   8634\n",
      "16            201127  539792  131709  44084  15967   9030\n",
      "17            173684  557378  150474  57693  22217   9664\n",
      "18            164071  545533  144901  57508  20430  10000\n",
      "19            188984  543268  124900  40333  13563   9969\n",
      "20            239637  526635   91386  22675   6967   9850\n",
      "21            374840  357589   51339  10019   3034   9012\n",
      "22            468402  190594   28986   5619   2155   8918\n",
      "23            364195  101035   17566   4393   4583   8538\n"
     ]
    }
   ],
   "source": [
    "#frequency of the 'estatActual' and 'estatPrevist' categories for each hour of the day.\n",
    "#This gives you an idea of how traffic conditions change over different hours.\n",
    "\n",
    "# Extract time from 'date' column\n",
    "df_traffic_2024['hour'] = df_traffic_2024['data'].dt.hour\n",
    "\n",
    "# Group by time and calculate category frequency\n",
    "agg_actual = df_traffic_2024.groupby(['hour', 'estatActual']).size().unstack(fill_value=0)\n",
    "agg_previst = df_traffic_2024.groupby(['hour', 'estatPrevist']).size().unstack(fill_value=0)\n",
    "\n",
    "print(\"Frequency of the current state for each hour:\")\n",
    "print(agg_actual)\n",
    "print(\"\\nPredicted state frequency per hour:\")\n",
    "print(agg_previst)"
   ]
  },
  {
   "cell_type": "code",
   "execution_count": 16,
   "id": "e0913929",
   "metadata": {},
   "outputs": [
    {
     "data": {
      "image/png": "[encoded data removed]",
      "text/plain": [
       "<Figure size 864x432 with 1 Axes>"
      ]
     },
     "metadata": {
      "needs_background": "light"
     },
     "output_type": "display_data"
    }
   ],
   "source": [
    "import matplotlib.pyplot as plt\n",
    "\n",
    "estatActual = {\n",
    "    'Very Fluid': [278552, 224767, 173859, 142687, 129441, 229710, 300668, 249217, 186965, 183451, 183760, 171445, 157078, 148025, 186972, 217035, 194532, 157348, 144343, 161813, 212768, 342631, 464420, 373154],\n",
    "    'Fluid': [60707, 37306, 23132, 16768, 13564, 39860, 135713, 333153, 425399, 486962, 518216, 560219, 586538, 617272, 602458, 530002, 584356, 607811, 592295, 588940, 572964, 402615, 206334, 101033],\n",
    "    'Dense': [8357, 6029, 4757, 3301, 3561, 9018, 20188, 61255, 98199, 101539, 89117, 110209, 121736, 121390, 104100, 88752, 108628, 129249, 128418, 111196, 75296, 41794, 19797, 12312],\n",
    "    'Very Dense': [2038, 2251, 1787, 1584, 1287, 1862, 4549, 22929, 46339, 41447, 30203, 33974, 38839, 42934, 38912, 31449, 33714, 49431, 50683, 37121, 20552, 7061, 3477, 3904],\n",
    "    'Congested': [1027, 869, 727, 597, 602, 773, 1788, 9071, 24761, 18965, 8777, 11692, 13502, 13435, 10362, 9476, 11449, 17607, 16704, 11978, 5720, 2720, 1728, 1369],\n",
    "    'Dead': [8618, 7846, 7688, 7000, 6434, 8272, 8020, 8869, 10111, 10840, 10669, 10997, 10110, 9419, 9248, 8634, 9030, 9664, 10000, 9969, 9850, 9012, 8918, 8538]\n",
    "}\n",
    "\n",
    "estatPrevist = {\n",
    "    'Very Fluid': [272757, 222469, 172558, 140809, 128213, 220533, 272300, 223337, 195293, 198654, 191319, 184063, 173045, 174557, 212906, 224424, 201127, 173684, 164071, 188984, 239637, 374840, 468402, 364195],\n",
    "    'Fluid': [59516, 37508, 22750, 17565, 13878, 44608, 144522, 319085, 395271, 454128, 479287, 517376, 542020, 563161, 552092, 493179, 539792, 557378, 545533, 543268, 526635, 357589, 190594, 101035],\n",
    "    'Dense': [10516, 7713, 5774, 4004, 3884, 11996, 35870, 88276, 112272, 118026, 111839, 127011, 137060, 139431, 123615, 110766, 131709, 150474, 144901, 124900, 91386, 51339, 28986, 17566],\n",
    "    'Very Dense': [2753, 2475, 2097, 1794, 1760, 3137, 7560, 30558, 50799, 43577, 35525, 43600, 48449, 49094, 40512, 35813, 44084, 57693, 57508, 40333, 22675, 10019, 5619, 4393],\n",
    "    'Congested': [5139, 1057, 1083, 765, 720, 949, 2654, 14369, 28028, 17979, 12103, 15489, 17119, 16813, 13679, 12532, 15967, 22217, 20430, 13563, 6967, 3034, 2155, 4583],\n",
    "    'Thinned': [8618, 7846, 7688, 7000, 6434, 8272, 8020, 8869, 10111, 10840, 10669, 10997, 10110, 9419, 9248, 8634, 9030, 9664, 10000, 9969, 9850, 9012, 8918, 8538]\n",
    "}\n",
    "\n",
    "plt.figure(figsize=(12, 6))\n",
    "for category in estatActual.keys():\n",
    "    if category in estatPrevist:\n",
    "        plt.plot(range(24), estatActual[category], label=f'Actual {category}', marker='o')\n",
    "        plt.plot(range(24), estatPrevist[category], label=f'Predicted {category}', linestyle='--', marker='o')\n",
    "\n",
    "plt.title('Frequency of current and predicted state per hour')\n",
    "plt.xlabel('Hour of the day')\n",
    "plt.ylabel('Frequency')\n",
    "plt.xticks(range(24))\n",
    "plt.legend()\n",
    "plt.grid(True)\n",
    "plt.show()"
   ]
  },
  {
   "cell_type": "markdown",
   "id": "ae964089",
   "metadata": {},
   "source": [
    "### Comparison of the current state with the expected one:\n",
    "Compare the current state with the predicted state to identify discrepancies and evaluate the accuracy of predictions."
   ]
  },
  {
   "cell_type": "code",
   "execution_count": 17,
   "id": "b988f0f5",
   "metadata": {
    "scrolled": true
   },
   "outputs": [
    {
     "data": {
      "text/html": [
       "<div>\n",
       "<style scoped>\n",
       "    .dataframe tbody tr th:only-of-type {\n",
       "        vertical-align: middle;\n",
       "    }\n",
       "\n",
       "    .dataframe tbody tr th {\n",
       "        vertical-align: top;\n",
       "    }\n",
       "\n",
       "    .dataframe thead th {\n",
       "        text-align: right;\n",
       "    }\n",
       "</style>\n",
       "<table border=\"1\" class=\"dataframe\">\n",
       "  <thead>\n",
       "    <tr style=\"text-align: right;\">\n",
       "      <th></th>\n",
       "      <th>idTram</th>\n",
       "      <th>data</th>\n",
       "      <th>estatActual</th>\n",
       "      <th>estatPrevist</th>\n",
       "      <th>Tram_Components</th>\n",
       "      <th>Descripció</th>\n",
       "      <th>Longitud</th>\n",
       "      <th>Latitud</th>\n",
       "      <th>hour</th>\n",
       "      <th>discrepancy</th>\n",
       "    </tr>\n",
       "  </thead>\n",
       "  <tbody>\n",
       "    <tr>\n",
       "      <th>0</th>\n",
       "      <td>1</td>\n",
       "      <td>2024-01-01 00:30:52</td>\n",
       "      <td>1</td>\n",
       "      <td>2</td>\n",
       "      <td>1</td>\n",
       "      <td>Diagonal (Ronda de Dalt a Doctor Marañón)</td>\n",
       "      <td>2.112035</td>\n",
       "      <td>41.384191</td>\n",
       "      <td>0</td>\n",
       "      <td>-1</td>\n",
       "    </tr>\n",
       "    <tr>\n",
       "      <th>1</th>\n",
       "      <td>1</td>\n",
       "      <td>2024-01-01 00:30:52</td>\n",
       "      <td>1</td>\n",
       "      <td>2</td>\n",
       "      <td>2</td>\n",
       "      <td>Diagonal (Ronda de Dalt a Doctor Marañón)</td>\n",
       "      <td>2.101503</td>\n",
       "      <td>41.381631</td>\n",
       "      <td>0</td>\n",
       "      <td>-1</td>\n",
       "    </tr>\n",
       "    <tr>\n",
       "      <th>2</th>\n",
       "      <td>1</td>\n",
       "      <td>2024-01-01 00:45:52</td>\n",
       "      <td>2</td>\n",
       "      <td>2</td>\n",
       "      <td>1</td>\n",
       "      <td>Diagonal (Ronda de Dalt a Doctor Marañón)</td>\n",
       "      <td>2.112035</td>\n",
       "      <td>41.384191</td>\n",
       "      <td>0</td>\n",
       "      <td>0</td>\n",
       "    </tr>\n",
       "    <tr>\n",
       "      <th>3</th>\n",
       "      <td>1</td>\n",
       "      <td>2024-01-01 00:45:52</td>\n",
       "      <td>2</td>\n",
       "      <td>2</td>\n",
       "      <td>2</td>\n",
       "      <td>Diagonal (Ronda de Dalt a Doctor Marañón)</td>\n",
       "      <td>2.101503</td>\n",
       "      <td>41.381631</td>\n",
       "      <td>0</td>\n",
       "      <td>0</td>\n",
       "    </tr>\n",
       "    <tr>\n",
       "      <th>4</th>\n",
       "      <td>1</td>\n",
       "      <td>2024-01-01 00:50:53</td>\n",
       "      <td>1</td>\n",
       "      <td>2</td>\n",
       "      <td>1</td>\n",
       "      <td>Diagonal (Ronda de Dalt a Doctor Marañón)</td>\n",
       "      <td>2.112035</td>\n",
       "      <td>41.384191</td>\n",
       "      <td>0</td>\n",
       "      <td>-1</td>\n",
       "    </tr>\n",
       "    <tr>\n",
       "      <th>...</th>\n",
       "      <td>...</td>\n",
       "      <td>...</td>\n",
       "      <td>...</td>\n",
       "      <td>...</td>\n",
       "      <td>...</td>\n",
       "      <td>...</td>\n",
       "      <td>...</td>\n",
       "      <td>...</td>\n",
       "      <td>...</td>\n",
       "      <td>...</td>\n",
       "    </tr>\n",
       "    <tr>\n",
       "      <th>16398233</th>\n",
       "      <td>534</td>\n",
       "      <td>2024-03-11 18:20:54</td>\n",
       "      <td>3</td>\n",
       "      <td>4</td>\n",
       "      <td>1</td>\n",
       "      <td>Ronda Litoral (Nus de la Trinitat a Potosí)</td>\n",
       "      <td>2.206062</td>\n",
       "      <td>41.443566</td>\n",
       "      <td>18</td>\n",
       "      <td>-1</td>\n",
       "    </tr>\n",
       "    <tr>\n",
       "      <th>16398234</th>\n",
       "      <td>534</td>\n",
       "      <td>2024-03-11 18:20:54</td>\n",
       "      <td>3</td>\n",
       "      <td>4</td>\n",
       "      <td>2</td>\n",
       "      <td>Ronda Litoral (Nus de la Trinitat a Potosí)</td>\n",
       "      <td>2.201962</td>\n",
       "      <td>41.448043</td>\n",
       "      <td>18</td>\n",
       "      <td>-1</td>\n",
       "    </tr>\n",
       "    <tr>\n",
       "      <th>16398235</th>\n",
       "      <td>534</td>\n",
       "      <td>2024-03-11 18:20:54</td>\n",
       "      <td>3</td>\n",
       "      <td>4</td>\n",
       "      <td>3</td>\n",
       "      <td>Ronda Litoral (Nus de la Trinitat a Potosí)</td>\n",
       "      <td>2.200663</td>\n",
       "      <td>41.448814</td>\n",
       "      <td>18</td>\n",
       "      <td>-1</td>\n",
       "    </tr>\n",
       "    <tr>\n",
       "      <th>16398236</th>\n",
       "      <td>534</td>\n",
       "      <td>2024-03-11 18:20:54</td>\n",
       "      <td>3</td>\n",
       "      <td>4</td>\n",
       "      <td>4</td>\n",
       "      <td>Ronda Litoral (Nus de la Trinitat a Potosí)</td>\n",
       "      <td>2.197778</td>\n",
       "      <td>41.449493</td>\n",
       "      <td>18</td>\n",
       "      <td>-1</td>\n",
       "    </tr>\n",
       "    <tr>\n",
       "      <th>16398237</th>\n",
       "      <td>534</td>\n",
       "      <td>2024-03-11 18:20:54</td>\n",
       "      <td>3</td>\n",
       "      <td>4</td>\n",
       "      <td>5</td>\n",
       "      <td>Ronda Litoral (Nus de la Trinitat a Potosí)</td>\n",
       "      <td>2.196634</td>\n",
       "      <td>41.449907</td>\n",
       "      <td>18</td>\n",
       "      <td>-1</td>\n",
       "    </tr>\n",
       "  </tbody>\n",
       "</table>\n",
       "<p>16398238 rows × 10 columns</p>\n",
       "</div>"
      ],
      "text/plain": [
       "          idTram                data  estatActual  estatPrevist  \\\n",
       "0              1 2024-01-01 00:30:52            1             2   \n",
       "1              1 2024-01-01 00:30:52            1             2   \n",
       "2              1 2024-01-01 00:45:52            2             2   \n",
       "3              1 2024-01-01 00:45:52            2             2   \n",
       "4              1 2024-01-01 00:50:53            1             2   \n",
       "...          ...                 ...          ...           ...   \n",
       "16398233     534 2024-03-11 18:20:54            3             4   \n",
       "16398234     534 2024-03-11 18:20:54            3             4   \n",
       "16398235     534 2024-03-11 18:20:54            3             4   \n",
       "16398236     534 2024-03-11 18:20:54            3             4   \n",
       "16398237     534 2024-03-11 18:20:54            3             4   \n",
       "\n",
       "          Tram_Components                                   Descripció  \\\n",
       "0                       1    Diagonal (Ronda de Dalt a Doctor Marañón)   \n",
       "1                       2    Diagonal (Ronda de Dalt a Doctor Marañón)   \n",
       "2                       1    Diagonal (Ronda de Dalt a Doctor Marañón)   \n",
       "3                       2    Diagonal (Ronda de Dalt a Doctor Marañón)   \n",
       "4                       1    Diagonal (Ronda de Dalt a Doctor Marañón)   \n",
       "...                   ...                                          ...   \n",
       "16398233                1  Ronda Litoral (Nus de la Trinitat a Potosí)   \n",
       "16398234                2  Ronda Litoral (Nus de la Trinitat a Potosí)   \n",
       "16398235                3  Ronda Litoral (Nus de la Trinitat a Potosí)   \n",
       "16398236                4  Ronda Litoral (Nus de la Trinitat a Potosí)   \n",
       "16398237                5  Ronda Litoral (Nus de la Trinitat a Potosí)   \n",
       "\n",
       "          Longitud    Latitud  hour  discrepancy  \n",
       "0         2.112035  41.384191     0           -1  \n",
       "1         2.101503  41.381631     0           -1  \n",
       "2         2.112035  41.384191     0            0  \n",
       "3         2.101503  41.381631     0            0  \n",
       "4         2.112035  41.384191     0           -1  \n",
       "...            ...        ...   ...          ...  \n",
       "16398233  2.206062  41.443566    18           -1  \n",
       "16398234  2.201962  41.448043    18           -1  \n",
       "16398235  2.200663  41.448814    18           -1  \n",
       "16398236  2.197778  41.449493    18           -1  \n",
       "16398237  2.196634  41.449907    18           -1  \n",
       "\n",
       "[16398238 rows x 10 columns]"
      ]
     },
     "execution_count": 17,
     "metadata": {},
     "output_type": "execute_result"
    }
   ],
   "source": [
    "# Calculate the difference between the current and expected state\n",
    "df_traffic_2024['discrepancy'] = df_traffic_2024['estatActual'] - df_traffic_2024['estatPrevist']\n",
    "df_traffic_2024"
   ]
  },
  {
   "cell_type": "markdown",
   "id": "00b3f8e6",
   "metadata": {},
   "source": [
    "### Graphical display of data on the map:\n",
    "use the geographic coordinates provided to map the data and identify the most congested areas via an appropriate visualization system."
   ]
  },
  {
   "cell_type": "markdown",
   "id": "8cc73b4d",
   "metadata": {},
   "source": [
    "### Identification of the busiest hours:\n",
    "identify the hours of the day when the traffic situation is most congested.  \n",
    "I calculate the average of the current state for each hour and then find the hours with the highest average state."
   ]
  },
  {
   "cell_type": "code",
   "execution_count": 18,
   "id": "2876b40f",
   "metadata": {
    "scrolled": true
   },
   "outputs": [
    {
     "name": "stdout",
     "output_type": "stream",
     "text": [
      "Now with maximum congestion: 18\n",
      "Higher average status: 2.174107304220178\n"
     ]
    }
   ],
   "source": [
    "# Calculates the average of the current state for each hour\n",
    "df_hourly['hour'] = df_hourly['data'].dt.hour\n",
    "avg_per_hour = df_hourly.groupby('hour')['estatActual'].mean()\n",
    "\n",
    "# Find the hour with the highest average\n",
    "hour_max_cong = avg_per_hour.idxmax()\n",
    "max_cong = avg_per_hour.max()\n",
    "\n",
    "print(\"Now with maximum congestion:\", hour_max_cong)\n",
    "print(\"Higher average status:\", max_cong)\n"
   ]
  },
  {
   "cell_type": "markdown",
   "id": "633c44c8",
   "metadata": {},
   "source": [
    "### Analysis of the discrepancy between the current and expected state:\n",
    "Analyze the discrepancy between the current state and the predicted one to evaluate the accuracy of the predictions.  \n",
    "I average the discrepancy and display a histogram to better understand the distribution of the differences."
   ]
  },
  {
   "cell_type": "code",
   "execution_count": 19,
   "id": "dff498f0",
   "metadata": {},
   "outputs": [
    {
     "name": "stdout",
     "output_type": "stream",
     "text": [
      "Average discrepancy between current and predicted state: -0.02998279449292052\n"
     ]
    },
    {
     "data": {
      "image/png": "[encoded data removed]",
      "text/plain": [
       "<Figure size 576x432 with 1 Axes>"
      ]
     },
     "metadata": {
      "needs_background": "light"
     },
     "output_type": "display_data"
    }
   ],
   "source": [
    "# Calculate the average discrepancy\n",
    "avg_discrepancy = df_traffic_2024['discrepancy'].mean()\n",
    "\n",
    "print(\"Average discrepancy between current and predicted state:\", avg_discrepancy)\n",
    "\n",
    "#histogram\n",
    "plt.figure(figsize=(8, 6))\n",
    "plt.hist(df_traffic_2024['discrepancy'], bins=20, edgecolor='black')\n",
    "plt.title('Distribution of the discrepancy between current and expected state')\n",
    "plt.xlabel('Discrepancy')\n",
    "plt.ylabel('Frequency')\n",
    "plt.grid(True)\n",
    "plt.show()\n"
   ]
  },
  {
   "cell_type": "markdown",
   "id": "7e55e4df",
   "metadata": {},
   "source": [
    "### Analysis of traffic status by day of the week:\n",
    "Examine whether there are significant variations in traffic status based on the day of the week.  "
   ]
  },
  {
   "cell_type": "code",
   "execution_count": 20,
   "id": "878bd76e",
   "metadata": {},
   "outputs": [
    {
     "data": {
      "image/png": "[encoded data removed]",
      "text/plain": [
       "<Figure size 576x432 with 1 Axes>"
      ]
     },
     "metadata": {
      "needs_background": "light"
     },
     "output_type": "display_data"
    }
   ],
   "source": [
    "# Calculate the day of the week\n",
    "df_hourly['week_day'] = df_hourly['data'].dt.dayofweek\n",
    "# Calculates the average of the current state for each day of the week\n",
    "avg_per_day = df_hourly.groupby('week_day')['estatActual'].mean()\n",
    "\n",
    "# Visualizza il grafico a barre per la media dello stato attuale per giorno della settimana\n",
    "week_days = ['Monday', 'Tuesday', 'Wednesday', 'Thursday', 'Friday', 'Saturday', 'Sunday']\n",
    "plt.figure(figsize=(8, 6))\n",
    "plt.bar(week_days, avg_per_day)\n",
    "plt.title('Average traffic status by day of the week')\n",
    "plt.xlabel('Day of the week')\n",
    "plt.ylabel('Average traffic status')\n",
    "plt.xticks(rotation=45)\n",
    "plt.grid(True)\n",
    "plt.show()"
   ]
  },
  {
   "cell_type": "code",
   "execution_count": 21,
   "id": "5935050e",
   "metadata": {},
   "outputs": [
    {
     "data": {
      "text/plain": [
       "week_day\n",
       "0    1.817171\n",
       "1    1.853363\n",
       "2    1.849504\n",
       "3    1.892497\n",
       "4    1.887208\n",
       "5    1.680285\n",
       "6    1.584125\n",
       "Name: estatActual, dtype: float64"
      ]
     },
     "execution_count": 21,
     "metadata": {},
     "output_type": "execute_result"
    }
   ],
   "source": [
    "avg_per_day"
   ]
  },
  {
   "cell_type": "markdown",
   "id": "3c5fc806",
   "metadata": {},
   "source": [
    "### Peak hour analysis:\n",
    "Identify rush hours when traffic is most congested."
   ]
  },
  {
   "cell_type": "code",
   "execution_count": 22,
   "id": "a72f31d0",
   "metadata": {},
   "outputs": [
    {
     "data": {
      "image/png": "[encoded data removed]",
      "text/plain": [
       "<Figure size 720x432 with 1 Axes>"
      ]
     },
     "metadata": {
      "needs_background": "light"
     },
     "output_type": "display_data"
    }
   ],
   "source": [
    "# Calculates the average of the current state for each hour of the day\n",
    "avg_per_hour = df_hourly.groupby('hour')['estatActual'].mean()\n",
    "\n",
    "#Average current status for each hour of the daybar chart for average traffic status for each hour of the day\n",
    "plt.figure(figsize=(10, 6))\n",
    "plt.bar(avg_per_hour.index, avg_per_hour)\n",
    "plt.title('Average traffic status for each hour of the day')\n",
    "plt.xlabel('Hour of the day')\n",
    "plt.ylabel('Average traffic status')\n",
    "plt.xticks(range(24))\n",
    "plt.grid(True)\n",
    "plt.show()"
   ]
  },
  {
   "cell_type": "code",
   "execution_count": 23,
   "id": "5e1fc57a",
   "metadata": {},
   "outputs": [
    {
     "data": {
      "text/plain": [
       "hour\n",
       "0     1.356720\n",
       "1     1.357152\n",
       "2     1.386940\n",
       "3     1.395656\n",
       "4     1.381115\n",
       "5     1.370644\n",
       "6     1.480015\n",
       "7     1.798598\n",
       "8     2.056420\n",
       "9     2.057569\n",
       "10    2.020117\n",
       "11    2.085793\n",
       "12    2.129873\n",
       "13    2.140913\n",
       "14    2.056266\n",
       "15    1.972854\n",
       "16    2.039762\n",
       "17    2.152047\n",
       "18    2.174107\n",
       "19    2.103269\n",
       "20    1.951873\n",
       "21    1.700099\n",
       "22    1.431843\n",
       "23    1.365651\n",
       "Name: estatActual, dtype: float64"
      ]
     },
     "execution_count": 23,
     "metadata": {},
     "output_type": "execute_result"
    }
   ],
   "source": [
    "avg_per_hour"
   ]
  },
  {
   "cell_type": "markdown",
   "id": "4fceb283",
   "metadata": {},
   "source": [
    "There are some interesting trends:  \n",
    "- Average traffic status by day of the week:  \n",
    "Congestion appears to be highest on weekdays (Monday to Friday), with a significant decrease during the weekend (Saturday and Sunday).  \n",
    "This suggests that traffic could be influenced by work and school activities.  \n",
    "In particular, Thursday and Friday appear to have the highest average congestion among workdays.\n",
    "- Average traffic status for each hour of the day:  \n",
    "The traffic trend shows a significant increase in the morning rush hours (from 7:00 to 9:00) and in the afternoon (from 4.00pm to 6.00pm), indicating the presence of peak times during transfers to and from work/school.  \n",
    "The time with the highest average congestion is 6pm, suggesting it is one of the most critical hours in terms of traffic.  \n",
    "These observations could be used to develop more effective traffic management strategies or to plan alternative itineraries during rush hour."
   ]
  },
  {
   "cell_type": "markdown",
   "id": "9bbb4ead",
   "metadata": {},
   "source": [
    "### Traffic state analysis for tram description:\n",
    "Examine whether there are significant differences in traffic status based on the tram description.  \n",
    "(This could help identify particular tram lines or routes that are most frequently congested.)"
   ]
  },
  {
   "cell_type": "code",
   "execution_count": 24,
   "id": "2c4ac47e",
   "metadata": {},
   "outputs": [
    {
     "name": "stdout",
     "output_type": "stream",
     "text": [
      "Descripció\n",
      "Almogàvers (Badajoz a Marina)                                  6.0\n",
      "Mallorca (Meridiana a Padilla)                                 6.0\n",
      "Ronda de Sant Pere (Passeig de Sant Joan a Pl. Urquinaona)     6.0\n",
      "Pg. de Gràcia (Aragó a Gran Via)                               6.0\n",
      "Pg. Joan de Borbó (Dr. Aiguader a Pepe Rubianes)               6.0\n",
      "Passeig de Colom (Pl. Antonio López a Pl. Portal de la Pau)    6.0\n",
      "Pallars (Pere IV a Bac de Roda)                                6.0\n",
      "Pallars (Meridiana a Pere IV)                                  6.0\n",
      "Carrer de Sants (Pl. Espanya a Premià)                         6.0\n",
      "Carrer de Sants (Premià a Pl. Espanya)                         6.0\n",
      "Name: estatActual, dtype: float64\n"
     ]
    }
   ],
   "source": [
    "# Calculate the average of the current state for each tram description\n",
    "avg_per_description = df_traffic_2024.groupby('Descripció')['estatActual'].mean().sort_values(ascending=False)\n",
    "\n",
    "print(avg_per_description.head(10))"
   ]
  },
  {
   "cell_type": "code",
   "execution_count": 25,
   "id": "eee8d2bb",
   "metadata": {},
   "outputs": [
    {
     "data": {
      "text/plain": [
       "Descripció\n",
       "Almogàvers (Badajoz a Marina)                                     6.000000\n",
       "Mallorca (Meridiana a Padilla)                                    6.000000\n",
       "Ronda de Sant Pere (Passeig de Sant Joan a Pl. Urquinaona)        6.000000\n",
       "Pg. de Gràcia (Aragó a Gran Via)                                  6.000000\n",
       "Pg. Joan de Borbó (Dr. Aiguader a Pepe Rubianes)                  6.000000\n",
       "                                                                    ...   \n",
       "Diagonal (Bac de Roda a Pl. Glòries)                              1.040187\n",
       "Meridiana (Fabra i Puig a Felip II)                               1.039219\n",
       "Marina (Gran Via a Meridiana)                                     1.023052\n",
       "Av. Rio de Janeiro (Passeig de Valldaura a Meridiana)             1.010338\n",
       "Craywinckel - República Argentina (Balmes a Pl. Alfonso Comín)    1.003000\n",
       "Name: estatActual, Length: 403, dtype: float64"
      ]
     },
     "execution_count": 25,
     "metadata": {},
     "output_type": "execute_result"
    }
   ],
   "source": [
    "avg_per_description"
   ]
  },
  {
   "cell_type": "markdown",
   "id": "ec5ec667",
   "metadata": {},
   "source": [
    "Tram descriptions with maximum traffic status (6.0):  \n",
    "There are several tram descriptions that have a maximum traffic status (6.0). This could indicate that in certain areas or segments of the tram network traffic is consistently very congested, without significant changes in traffic status.\n",
    "\n",
    "Tram descriptions with lower traffic states:  \n",
    "Some tram descriptions show lower traffic states, such as 3.77 or 2.81. This may indicate that traffic in these areas is generally less congested than in the tram descriptions with maximum traffic status.\n",
    "\n",
    "Possible influencing factors:  \n",
    "Differences in traffic status could be influenced by various factors, such as population density, the presence of major road junctions or intersections, the presence of attractions or shopping centers, and so on.\n",
    "\n",
    "Usefulness in traffic optimization:  \n",
    "Understanding traffic state variations along different tram descriptions could be useful for traffic optimization and urban planning. For example, you may need to focus more resources or attention on certain areas with increased congestion to improve traffic flow.  \n",
    "By more closely examining tram descriptions with different levels of congestion, patterns or trends could be identified that could guide strategic interventions to improve urban mobility."
   ]
  },
  {
   "cell_type": "code",
   "execution_count": 26,
   "id": "19087012",
   "metadata": {},
   "outputs": [
    {
     "data": {
      "text/plain": [
       "403"
      ]
     },
     "execution_count": 26,
     "metadata": {},
     "output_type": "execute_result"
    }
   ],
   "source": [
    "len(df_traffic_2024.Descripció.unique())"
   ]
  },
  {
   "cell_type": "code",
   "execution_count": 27,
   "id": "808df510",
   "metadata": {},
   "outputs": [
    {
     "data": {
      "text/plain": [
       "408"
      ]
     },
     "execution_count": 27,
     "metadata": {},
     "output_type": "execute_result"
    }
   ],
   "source": [
    "len(df_traffic_2024.idTram.unique())"
   ]
  },
  {
   "cell_type": "markdown",
   "id": "aad323c6",
   "metadata": {},
   "source": [
    "To further explore the relationship between tram descriptions, distinct trams and traffic status:  \n",
    "\n",
    "Analysis of the variation in traffic status between different trams sharing the same description:  \n",
    "calculate the average traffic state for each tram description and then examine the variation of this value between different trams sharing the same description. This way you can see if there is consistency in the level of congestion along a given tram description or if there are significant differences between different trams.\n",
    "\n",
    "Analysis of factors associated with each tram description:  \n",
    "examine whether there are specific factors associated with each tram description that influence traffic status. For example, consider population density, the presence of tourist attractions, the presence of major road intersections, or other factors relevant to urban mobility."
   ]
  },
  {
   "cell_type": "code",
   "execution_count": 28,
   "id": "105ed89f",
   "metadata": {},
   "outputs": [
    {
     "name": "stdout",
     "output_type": "stream",
     "text": [
      "Descripció\n",
      "Almogàvers (Badajoz a Marina)                   6.000000\n",
      "Almogàvers (Marina a Passeig Lluís Companys)    1.771319\n",
      "Aragó (Balmes a Urgell)                         2.167395\n",
      "Aragó (Cartagena a Diagonal)                    2.256869\n",
      "Aragó (Diagonal a Passeig de Sant Joan)         1.793199\n",
      "Name: estatActual, dtype: float64\n"
     ]
    }
   ],
   "source": [
    "# Calculate the average of the current state for each tram description\n",
    "avg_per_description = df_traffic_2024.groupby('Descripció')['estatActual'].mean()\n",
    "\n",
    "print(avg_per_description.head())"
   ]
  },
  {
   "cell_type": "code",
   "execution_count": 29,
   "id": "c92aa9c8",
   "metadata": {},
   "outputs": [
    {
     "data": {
      "text/plain": [
       "Descripció\n",
       "Almogàvers (Badajoz a Marina)                   6.000000\n",
       "Almogàvers (Marina a Passeig Lluís Companys)    1.771319\n",
       "Aragó (Balmes a Urgell)                         2.167395\n",
       "Aragó (Cartagena a Diagonal)                    2.256869\n",
       "Aragó (Diagonal a Passeig de Sant Joan)         1.793199\n",
       "                                                  ...   \n",
       "Via Laietana (Pl. Antonio López a Jaume I)      6.000000\n",
       "Via Laietana (Pl. Uruiqnaona a Jaume I)         6.000000\n",
       "Viladomat (Gran Via a Manso)                    2.537149\n",
       "Viladomat (Manso a Av. Paral·lel)               2.537149\n",
       "Villarroel (Gran Via a Rda. Sant Antoni)        2.078287\n",
       "Name: estatActual, Length: 403, dtype: float64"
      ]
     },
     "execution_count": 29,
     "metadata": {},
     "output_type": "execute_result"
    }
   ],
   "source": [
    "avg_per_description"
   ]
  },
  {
   "cell_type": "code",
   "execution_count": 30,
   "id": "9d86849e",
   "metadata": {},
   "outputs": [
    {
     "data": {
      "image/png": "[encoded data removed]",
      "text/plain": [
       "<Figure size 720x432 with 1 Axes>"
      ]
     },
     "metadata": {
      "needs_background": "light"
     },
     "output_type": "display_data"
    }
   ],
   "source": [
    "import matplotlib.pyplot as plt\n",
    "\n",
    "#histogram of traffic state averages for each tram description\n",
    "plt.figure(figsize=(10, 6))\n",
    "plt.hist(avg_per_description, bins=20, color='skyblue', edgecolor='black')\n",
    "plt.title('Distribution of traffic state averages by tram description')\n",
    "plt.xlabel('Average traffic status')\n",
    "plt.ylabel('Frequency')\n",
    "plt.grid(True)\n",
    "plt.show()"
   ]
  },
  {
   "cell_type": "code",
   "execution_count": 31,
   "id": "f653d0f5",
   "metadata": {},
   "outputs": [],
   "source": [
    "# Merge the average with the original DataFrame\n",
    "df_with_mean = df_traffic_2024.merge(avg_per_description, left_on='Descripció', right_index=True, suffixes=('', '_media'))\n",
    "\n",
    "# Calculate the discrepancy between the traffic status of each tram and the average for its description\n",
    "df_with_mean['discrepancy'] = df_with_mean['estatActual'] - df_with_mean['estatActual_media']"
   ]
  },
  {
   "cell_type": "code",
   "execution_count": 32,
   "id": "aefd2493",
   "metadata": {},
   "outputs": [
    {
     "data": {
      "text/html": [
       "<div>\n",
       "<style scoped>\n",
       "    .dataframe tbody tr th:only-of-type {\n",
       "        vertical-align: middle;\n",
       "    }\n",
       "\n",
       "    .dataframe tbody tr th {\n",
       "        vertical-align: top;\n",
       "    }\n",
       "\n",
       "    .dataframe thead th {\n",
       "        text-align: right;\n",
       "    }\n",
       "</style>\n",
       "<table border=\"1\" class=\"dataframe\">\n",
       "  <thead>\n",
       "    <tr style=\"text-align: right;\">\n",
       "      <th></th>\n",
       "      <th>idTram</th>\n",
       "      <th>Descripció</th>\n",
       "      <th>estatActual</th>\n",
       "      <th>estatActual_media</th>\n",
       "      <th>discrepancy</th>\n",
       "    </tr>\n",
       "  </thead>\n",
       "  <tbody>\n",
       "    <tr>\n",
       "      <th>0</th>\n",
       "      <td>1</td>\n",
       "      <td>Diagonal (Ronda de Dalt a Doctor Marañón)</td>\n",
       "      <td>1</td>\n",
       "      <td>2.134684</td>\n",
       "      <td>-1.134684</td>\n",
       "    </tr>\n",
       "    <tr>\n",
       "      <th>1</th>\n",
       "      <td>1</td>\n",
       "      <td>Diagonal (Ronda de Dalt a Doctor Marañón)</td>\n",
       "      <td>1</td>\n",
       "      <td>2.134684</td>\n",
       "      <td>-1.134684</td>\n",
       "    </tr>\n",
       "    <tr>\n",
       "      <th>2</th>\n",
       "      <td>1</td>\n",
       "      <td>Diagonal (Ronda de Dalt a Doctor Marañón)</td>\n",
       "      <td>2</td>\n",
       "      <td>2.134684</td>\n",
       "      <td>-0.134684</td>\n",
       "    </tr>\n",
       "    <tr>\n",
       "      <th>3</th>\n",
       "      <td>1</td>\n",
       "      <td>Diagonal (Ronda de Dalt a Doctor Marañón)</td>\n",
       "      <td>2</td>\n",
       "      <td>2.134684</td>\n",
       "      <td>-0.134684</td>\n",
       "    </tr>\n",
       "    <tr>\n",
       "      <th>4</th>\n",
       "      <td>1</td>\n",
       "      <td>Diagonal (Ronda de Dalt a Doctor Marañón)</td>\n",
       "      <td>1</td>\n",
       "      <td>2.134684</td>\n",
       "      <td>-1.134684</td>\n",
       "    </tr>\n",
       "    <tr>\n",
       "      <th>...</th>\n",
       "      <td>...</td>\n",
       "      <td>...</td>\n",
       "      <td>...</td>\n",
       "      <td>...</td>\n",
       "      <td>...</td>\n",
       "    </tr>\n",
       "    <tr>\n",
       "      <th>16398233</th>\n",
       "      <td>534</td>\n",
       "      <td>Ronda Litoral (Nus de la Trinitat a Potosí)</td>\n",
       "      <td>3</td>\n",
       "      <td>1.866542</td>\n",
       "      <td>1.133458</td>\n",
       "    </tr>\n",
       "    <tr>\n",
       "      <th>16398234</th>\n",
       "      <td>534</td>\n",
       "      <td>Ronda Litoral (Nus de la Trinitat a Potosí)</td>\n",
       "      <td>3</td>\n",
       "      <td>1.866542</td>\n",
       "      <td>1.133458</td>\n",
       "    </tr>\n",
       "    <tr>\n",
       "      <th>16398235</th>\n",
       "      <td>534</td>\n",
       "      <td>Ronda Litoral (Nus de la Trinitat a Potosí)</td>\n",
       "      <td>3</td>\n",
       "      <td>1.866542</td>\n",
       "      <td>1.133458</td>\n",
       "    </tr>\n",
       "    <tr>\n",
       "      <th>16398236</th>\n",
       "      <td>534</td>\n",
       "      <td>Ronda Litoral (Nus de la Trinitat a Potosí)</td>\n",
       "      <td>3</td>\n",
       "      <td>1.866542</td>\n",
       "      <td>1.133458</td>\n",
       "    </tr>\n",
       "    <tr>\n",
       "      <th>16398237</th>\n",
       "      <td>534</td>\n",
       "      <td>Ronda Litoral (Nus de la Trinitat a Potosí)</td>\n",
       "      <td>3</td>\n",
       "      <td>1.866542</td>\n",
       "      <td>1.133458</td>\n",
       "    </tr>\n",
       "  </tbody>\n",
       "</table>\n",
       "<p>16398238 rows × 5 columns</p>\n",
       "</div>"
      ],
      "text/plain": [
       "          idTram                                   Descripció  estatActual  \\\n",
       "0              1    Diagonal (Ronda de Dalt a Doctor Marañón)            1   \n",
       "1              1    Diagonal (Ronda de Dalt a Doctor Marañón)            1   \n",
       "2              1    Diagonal (Ronda de Dalt a Doctor Marañón)            2   \n",
       "3              1    Diagonal (Ronda de Dalt a Doctor Marañón)            2   \n",
       "4              1    Diagonal (Ronda de Dalt a Doctor Marañón)            1   \n",
       "...          ...                                          ...          ...   \n",
       "16398233     534  Ronda Litoral (Nus de la Trinitat a Potosí)            3   \n",
       "16398234     534  Ronda Litoral (Nus de la Trinitat a Potosí)            3   \n",
       "16398235     534  Ronda Litoral (Nus de la Trinitat a Potosí)            3   \n",
       "16398236     534  Ronda Litoral (Nus de la Trinitat a Potosí)            3   \n",
       "16398237     534  Ronda Litoral (Nus de la Trinitat a Potosí)            3   \n",
       "\n",
       "          estatActual_media  discrepancy  \n",
       "0                  2.134684    -1.134684  \n",
       "1                  2.134684    -1.134684  \n",
       "2                  2.134684    -0.134684  \n",
       "3                  2.134684    -0.134684  \n",
       "4                  2.134684    -1.134684  \n",
       "...                     ...          ...  \n",
       "16398233           1.866542     1.133458  \n",
       "16398234           1.866542     1.133458  \n",
       "16398235           1.866542     1.133458  \n",
       "16398236           1.866542     1.133458  \n",
       "16398237           1.866542     1.133458  \n",
       "\n",
       "[16398238 rows x 5 columns]"
      ]
     },
     "execution_count": 32,
     "metadata": {},
     "output_type": "execute_result"
    }
   ],
   "source": [
    "df_with_mean[['idTram', 'Descripció', 'estatActual', 'estatActual_media', 'discrepancy']]"
   ]
  },
  {
   "cell_type": "code",
   "execution_count": 33,
   "id": "4a5b7d0f",
   "metadata": {},
   "outputs": [
    {
     "name": "stdout",
     "output_type": "stream",
     "text": [
      "Trams with traffic states significantly above average:\n",
      "     idTram                                 Descripció  estatActual  \\\n",
      "426       1  Diagonal (Ronda de Dalt a Doctor Marañón)            4   \n",
      "427       1  Diagonal (Ronda de Dalt a Doctor Marañón)            4   \n",
      "430       1  Diagonal (Ronda de Dalt a Doctor Marañón)            4   \n",
      "431       1  Diagonal (Ronda de Dalt a Doctor Marañón)            4   \n",
      "432       1  Diagonal (Ronda de Dalt a Doctor Marañón)            4   \n",
      "\n",
      "     estatActual_media  discrepancy  \n",
      "426           2.134684     1.865316  \n",
      "427           2.134684     1.865316  \n",
      "430           2.134684     1.865316  \n",
      "431           2.134684     1.865316  \n",
      "432           2.134684     1.865316  \n",
      "\n",
      "Trams with significantly lower than average traffic conditions:\n",
      "        idTram                                         Descripció  \\\n",
      "693585      22  Av. Foix (Pg. Reina Elisenda a Pg. Manuel Girona)   \n",
      "693586      22  Av. Foix (Pg. Reina Elisenda a Pg. Manuel Girona)   \n",
      "693587      22  Av. Foix (Pg. Reina Elisenda a Pg. Manuel Girona)   \n",
      "693588      22  Av. Foix (Pg. Reina Elisenda a Pg. Manuel Girona)   \n",
      "693589      22  Av. Foix (Pg. Reina Elisenda a Pg. Manuel Girona)   \n",
      "\n",
      "        estatActual  estatActual_media  discrepancy  \n",
      "693585            1           3.173115    -2.173115  \n",
      "693586            1           3.173115    -2.173115  \n",
      "693587            1           3.173115    -2.173115  \n",
      "693588            1           3.173115    -2.173115  \n",
      "693589            1           3.173115    -2.173115  \n"
     ]
    }
   ],
   "source": [
    "#define a threshold to consider a discrepancy to be significant\n",
    "discrepancy_threshold = 1.5  \n",
    "\n",
    "#identify trams with significant discrepancies\n",
    "superior_significant_trams = df_with_mean[df_with_mean['discrepancy'] > discrepancy_threshold]\n",
    "significant_lower_trams = df_with_mean[df_with_mean['discrepancy'] < -discrepancy_threshold]\n",
    "\n",
    "print(\"Trams with traffic states significantly above average:\")\n",
    "print(superior_significant_trams[['idTram', 'Descripció', 'estatActual', 'estatActual_media', 'discrepancy']].head())\n",
    "\n",
    "print(\"\\nTrams with significantly lower than average traffic conditions:\")\n",
    "print(significant_lower_trams[['idTram', 'Descripció', 'estatActual', 'estatActual_media', 'discrepancy']].head())\n"
   ]
  },
  {
   "cell_type": "markdown",
   "id": "f4c4802a",
   "metadata": {},
   "source": [
    "Trams with traffic states significantly above average, where the discrepancy is positive, indicating that the traffic state of the tram is above average for its description.   \n",
    "Trams with traffic states significantly lower than average, where the discrepancy is negative, indicating that the traffic state of the tram is lower than average for its description."
   ]
  },
  {
   "cell_type": "markdown",
   "id": "b03c14c4",
   "metadata": {},
   "source": [
    "### Time series"
   ]
  },
  {
   "cell_type": "code",
   "execution_count": 34,
   "id": "67083dd9",
   "metadata": {},
   "outputs": [],
   "source": [
    "#convert the 'date' column to datetime type\n",
    "df_traffic_2024['data_date'] = pd.to_datetime(df_traffic_2024['data'])\n",
    "df_traffic_2024['data_date'] = df_traffic_2024['data'].dt.date"
   ]
  },
  {
   "cell_type": "code",
   "execution_count": 36,
   "id": "e5cbe26a",
   "metadata": {},
   "outputs": [
    {
     "data": {
      "image/png": "[encoded data removed]",
      "text/plain": [
       "<Figure size 720x432 with 1 Axes>"
      ]
     },
     "metadata": {
      "needs_background": "light"
     },
     "output_type": "display_data"
    }
   ],
   "source": [
    "import numpy as np\n",
    "\n",
    "#calculate the average traffic status for each day\n",
    "daily_traffic_state = df_traffic_2024.groupby('data_date')['estatActual'].mean()\n",
    "\n",
    "x_values = np.array(daily_traffic_state.index)\n",
    "y_values = np.array(daily_traffic_state.values)\n",
    "\n",
    "plt.figure(figsize=(10, 6))\n",
    "plt.plot(x_values, y_values, marker='o', linestyle='-')\n",
    "plt.title('Average daily traffic status trend')\n",
    "plt.xlabel('Date')\n",
    "plt.ylabel('Average traffic status')\n",
    "plt.xticks(rotation=45)\n",
    "plt.grid(True)\n",
    "plt.tight_layout()\n",
    "plt.show()"
   ]
  },
  {
   "cell_type": "code",
   "execution_count": null,
   "id": "9db31777",
   "metadata": {},
   "outputs": [],
   "source": []
  }
 ],
 "metadata": {
  "kernelspec": {
   "display_name": "Python 3 (ipykernel)",
   "language": "python",
   "name": "python3"
  },
  "language_info": {
   "codemirror_mode": {
    "name": "ipython",
    "version": 3
   },
   "file_extension": ".py",
   "mimetype": "text/x-python",
   "name": "python",
   "nbconvert_exporter": "python",
   "pygments_lexer": "ipython3",
   "version": "3.9.12"
  }
 },
 "nbformat": 4,
 "nbformat_minor": 5
}
